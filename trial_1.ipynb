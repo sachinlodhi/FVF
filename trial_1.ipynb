{
 "cells": [
  {
   "cell_type": "code",
   "execution_count": 1,
   "id": "a2deb672-2033-4977-af4e-00371356cef2",
   "metadata": {},
   "outputs": [],
   "source": [
    "import cv2\n",
    "import binascii"
   ]
  },
  {
   "cell_type": "code",
   "execution_count": 2,
   "id": "6661a7bd-145b-4453-912e-91d601a2f57d",
   "metadata": {},
   "outputs": [],
   "source": [
    "# define file name and path\n",
    "filePath = \"/home/sachin/Personal/Projects/Python/FVF/docs/temp_1.pdf\""
   ]
  },
  {
   "cell_type": "code",
   "execution_count": 3,
   "id": "6e2a79d2-c47f-4d58-866a-666c6983ef1c",
   "metadata": {},
   "outputs": [],
   "source": [
    "file = open(filePath, \"rb\")\n",
    "content = file.read() # byte object\n",
    "\n",
    "# Conversion to Stram of 0 and 1\n",
    "binary_str = binascii.hexlify(content).decode('utf-8')\n",
    "binary_stream = ''.join(format(int(binary_str[i:i+2], 16), '08b') for i in range(0, len(binary_str), 2))\n",
    "\n",
    "# Convert the binary stream back to a bytes object\n",
    "binary_data = binascii.unhexlify('%x' % int(binary_stream, 2))\n",
    "\n",
    "# Print the binary stream\n",
    "# print(binary_stream)\n"
   ]
  },
  {
   "cell_type": "code",
   "execution_count": null,
   "id": "a86725f2-7e40-4279-be5b-b39ca409e865",
   "metadata": {},
   "outputs": [],
   "source": []
  }
 ],
 "metadata": {
  "kernelspec": {
   "display_name": "codebasic",
   "language": "python",
   "name": "codebasic"
  },
  "language_info": {
   "codemirror_mode": {
    "name": "ipython",
    "version": 3
   },
   "file_extension": ".py",
   "mimetype": "text/x-python",
   "name": "python",
   "nbconvert_exporter": "python",
   "pygments_lexer": "ipython3",
   "version": "3.11.4"
  }
 },
 "nbformat": 4,
 "nbformat_minor": 5
}
